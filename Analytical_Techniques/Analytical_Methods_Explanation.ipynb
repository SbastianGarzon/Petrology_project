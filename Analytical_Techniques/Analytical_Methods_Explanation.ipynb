{
 "metadata": {
  "name": "",
  "signature": "sha256:1e52df8384094e7dad4ac3121d7aecac1ac3d083d0faf655fa78695182d71f14"
 },
 "nbformat": 3,
 "nbformat_minor": 0,
 "worksheets": [
  {
   "cells": [
    {
     "cell_type": "heading",
     "level": 1,
     "metadata": {},
     "source": [
      "Why you need to know about analytical methods in geochemistry?"
     ]
    },
    {
     "cell_type": "markdown",
     "metadata": {},
     "source": [
      "The most important thing in geochemistry is the quality of the data collected of a sample.  \n",
      "  \n",
      "The analytical technique that will be used to measure something in geochemistry must be chosen according to the type of information that will be measure (Each method has different precision and accuracy)\n",
      "\n",
      "Therefore, it is necessary to know the principles of the main techniques used in geochemistry, in order to choose the most appropriate option for the analyses that will be perform."
     ]
    },
    {
     "cell_type": "markdown",
     "metadata": {},
     "source": [
      "Principal methods are:\n",
      "\n",
      "    X-ray fluorescence spectrometry.\n",
      "    Neutron activation analyses.\n",
      "    Inductively couple plasma emission spectrometry\n",
      "    Atomic absortion spectrophotometry\n",
      "    Mass spectrometry\n",
      "    Electro microprobe analyses\n",
      "    Ion microprobe\n",
      "    \n",
      "Principal measurements are:\n",
      "\n",
      "    Major elements: > 0,1 wt.% in the sample\n",
      "    Trace elements: < 0,1 wt.% in the sample\n",
      "    Isotope analysis\n",
      "    "
     ]
    },
    {
     "cell_type": "heading",
     "level": 2,
     "metadata": {},
     "source": [
      "X-ray fluorescence spectrometry"
     ]
    },
    {
     "cell_type": "heading",
     "level": 3,
     "metadata": {},
     "source": [
      "What is it used?"
     ]
    },
    {
     "cell_type": "markdown",
     "metadata": {},
     "source": [
      "the method is used in the determination of the major and tracce elements, because it works concentrations from 100% to few parts of million."
     ]
    },
    {
     "cell_type": "heading",
     "level": 3,
     "metadata": {},
     "source": [
      "How it works?"
     ]
    },
    {
     "cell_type": "markdown",
     "metadata": {},
     "source": [
      "A primary X-ray beam excites secondary X-rays which have wavelenghts characteristic of the elements present in the sample. The intensity of the Secondary X-rays allow to establish the concentrations of the elements present in a sample."
     ]
    },
    {
     "cell_type": "heading",
     "level": 3,
     "metadata": {},
     "source": [
      "How is it done?"
     ]
    },
    {
     "cell_type": "markdown",
     "metadata": {},
     "source": [
      "XFR major element analysis consist of the preparation of glass bead made form the powdered sample fused with lithium metaborate or tetraborate.\n",
      "\n",
      "XFR trace element analysis consist of the prepartaion of a pressed powder disc."
     ]
    },
    {
     "cell_type": "heading",
     "level": 3,
     "metadata": {},
     "source": [
      "Problems and limitations"
     ]
    },
    {
     "cell_type": "markdown",
     "metadata": {},
     "source": [
      "The method can not measure elements lighter than sodium (Na), nor it can measure all the range of trace elements. Therefore, it is used for major elements principally.  \n",
      "  \n",
      "X-rays tubes are delicate and tube changes are minimized to conserve their life. XRF trace analysis implies the use of one or more different tubes."
     ]
    },
    {
     "cell_type": "heading",
     "level": 2,
     "metadata": {},
     "source": [
      "Neutron activation analyses"
     ]
    },
    {
     "cell_type": "heading",
     "level": 2,
     "metadata": {},
     "source": [
      "Inductively coupled plasma emission spectrometry "
     ]
    },
    {
     "cell_type": "heading",
     "level": 2,
     "metadata": {},
     "source": [
      "Atomic absortion spectrophotometry "
     ]
    },
    {
     "cell_type": "heading",
     "level": 2,
     "metadata": {},
     "source": [
      "Mass spectrometry"
     ]
    },
    {
     "cell_type": "heading",
     "level": 2,
     "metadata": {},
     "source": [
      "Electron microprobe analyses "
     ]
    },
    {
     "cell_type": "heading",
     "level": 2,
     "metadata": {},
     "source": [
      "Ion microprobe"
     ]
    },
    {
     "cell_type": "code",
     "collapsed": false,
     "input": [],
     "language": "python",
     "metadata": {},
     "outputs": []
    }
   ],
   "metadata": {}
  }
 ]
}