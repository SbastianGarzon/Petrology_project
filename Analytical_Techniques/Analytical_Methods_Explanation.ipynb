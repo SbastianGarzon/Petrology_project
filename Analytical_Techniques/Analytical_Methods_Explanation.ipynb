{
 "metadata": {
  "name": "",
  "signature": "sha256:4acbb5ee2e4e2cf397c789c5094b9c7a8404c237150c3e56338114f07324e4fe"
 },
 "nbformat": 3,
 "nbformat_minor": 0,
 "worksheets": [
  {
   "cells": [
    {
     "cell_type": "code",
     "collapsed": false,
     "input": [
      "from IPython import utils\n",
      "from IPython.core.display import HTML\n",
      "import os\n",
      "def css_styling():\n",
      "    \"\"\"Load default custom.css file from ipython profile\"\"\"\n",
      "    base = utils.path.get_ipython_dir()\n",
      "    styles = \"<style>\\n%s\\n</style>\" % (open(os.path.join(base,'profile_AlejandroCortes/static/custom/custom.css'),'r').read())\n",
      "    return HTML(styles)\n",
      "css_styling()"
     ],
     "language": "python",
     "metadata": {},
     "outputs": [
      {
       "html": [
        "<style>\n",
        "/*\n",
        "Placeholder for custom user CSS\n",
        "\n",
        "mainly to be overridden in profile/static/custom/custom.css\n",
        "\n",
        "This will always be an empty file in IPython\n",
        "*/\n",
        "\n",
        "@import url('http://fonts.googleapis.com/css?family=Crimson+Text');\n",
        "@import url('http://fonts.googleapis.com/css?family=Kameron');\n",
        "@import url('http://fonts.googleapis.com/css?family=Lato:200');\n",
        "@import url('http://fonts.googleapis.com/css?family=Lato:300');\n",
        "@import url('http://fonts.googleapis.com/css?family=Lato:400');\n",
        "\n",
        "\n",
        "/* Change code font */\n",
        ".CodeMirror pre {\n",
        "    font-family: Monaco;\n",
        "    font-size: 9pt;\n",
        "}\n",
        "\n",
        "div.output pre{\n",
        "    font-family: Monaco;\n",
        "    font-size: 9pt;\n",
        "}\n",
        "\n",
        "div.output_html td{\n",
        "    font-family: Monaco;\n",
        "    font-size: 8pt;\n",
        "}\n",
        "\n",
        "div.prompt{\n",
        "    font-family: Monaco;\n",
        "    font-size: 8pt;\n",
        "}\n",
        "\n",
        "div.completions select{\n",
        "    font-family: Monaco;\n",
        "    font-size: 9pt;\n",
        "}\n",
        "\n",
        "div.container pre{\n",
        "    font-family: Monaco;\n",
        "    font-size: 9pt;\n",
        "}\n",
        "\n",
        "div.tooltiptext pre{\n",
        "    font-family: Monaco;\n",
        "    font-size: 8pt;\n",
        "}\n",
        "\n",
        "div.input_area {\n",
        "    border-color: rgba(0,0,0,0.10);\n",
        "    background: rbga(0,0,0,0.5);\n",
        "}\n",
        "\n",
        "div.text_cell {\n",
        "    max-width: 105ex; /* instead of 100%, */\n",
        "}\n",
        "\n",
        "div.text_cell_render {\n",
        "    font-family: lato;\n",
        "    font-size: 11pt;\n",
        "    line-height: 145%; /* added for some line spacing of text. */\n",
        "}\n",
        "\n",
        "div.text_cell_render code{\n",
        "    font-family: Monaco;\n",
        "    font-size: 9pt;\n",
        "}\n",
        "\n",
        "div.text_cell_render h1,\n",
        "div.text_cell_render h2,\n",
        "div.text_cell_render h3,\n",
        "div.text_cell_render h4,\n",
        "div.text_cell_render h5,\n",
        "div.text_cell_render h6 {\n",
        "    font-family: lato, 'HelveticaNeue-Light';\n",
        "    font-weight: 300;\n",
        "}\n",
        "\n",
        "div.text_cell_render h1 {\n",
        "    font-size: 24pt;\n",
        "}\n",
        "\n",
        "div.text_cell_render h2 {\n",
        "    font-size: 18pt;\n",
        "}\n",
        "\n",
        "div.text_cell_render h3 {\n",
        "    font-size: 14pt;\n",
        "}\n",
        "\n",
        ".rendered_html pre,\n",
        ".rendered_html code {\n",
        "    font-size: medium;\n",
        "}\n",
        "\n",
        ".rendered_html ol {\n",
        "    list-style:decimal;\n",
        "    margin: 1em 2em;\n",
        "}\n",
        "\n",
        ".prompt.input_prompt {\n",
        "    color: rgba(0,0,0,0.5);\n",
        "}\n",
        "\n",
        ".cell.command_mode.selected {\n",
        "    border-color: rgba(0,0,0,0.1);\n",
        "}\n",
        "\n",
        ".cell.edit_mode.selected {\n",
        "    border-color: rgba(0,0,0,0.15);\n",
        "    box-shadow: 0px 0px 5px #f0f0f0;\n",
        "    -webkit-box-shadow: 0px 0px 5px #f0f0f0;\n",
        "}\n",
        "\n",
        "div.output_scroll {\n",
        "    -webkit-box-shadow: inset 0 2px 8px rgba(0,0,0,0.1);\n",
        "    box-shadow: inset 0 2px 8px rgba(0,0,0,0.1);\n",
        "    border-radious: 2px;\n",
        "}\n",
        "\n",
        "#menubar .navbar-inner {\n",
        "    background: #fff;\n",
        "    -webkit-box-shadow: none;\n",
        "    box-shadow: none;\n",
        "    border-radius: 0;\n",
        "    border: none;\n",
        "    font-family: lato;\n",
        "    font-weight: 400;\n",
        "}\n",
        "\n",
        ".navbar-fixed-top .navbar-inner,\n",
        ".navbar-static-top .navbar-inner {\n",
        "    box-shadow: none;\n",
        "    -webkit-box-shadow: none;\n",
        "    border: none;\n",
        "}\n",
        "\n",
        "div#notebook_panel {\n",
        "    box-shadow: none;\n",
        "    -webkit-box-shadow: none;\n",
        "    border-top: none;\n",
        "}\n",
        "\n",
        "div#notebook {\n",
        "    border-top: 1px solid rgba(0,0,0,0.15);\n",
        "}\n",
        "\n",
        "#menubar .navbar .navbar-inner,\n",
        ".toolbar-inner {\n",
        "    padding-left: 0;\n",
        "    padding-right: 0;\n",
        "}\n",
        "\n",
        "#checkpoint_status,\n",
        "#autosave_status {\n",
        "    color: rgba(0,0,0,0.5);\n",
        "}\n",
        "\n",
        "#header {\n",
        "    font-family: lato;\n",
        "}\n",
        "\n",
        "#notebook_name {\n",
        "    font-weight: 200;\n",
        "}\n",
        "\n",
        "</style>"
       ],
       "metadata": {},
       "output_type": "pyout",
       "prompt_number": 1,
       "text": [
        "<IPython.core.display.HTML at 0x104369090>"
       ]
      }
     ],
     "prompt_number": 1
    },
    {
     "cell_type": "heading",
     "level": 1,
     "metadata": {},
     "source": [
      "Why you need to know about analytical methods in geochemistry?"
     ]
    },
    {
     "cell_type": "markdown",
     "metadata": {},
     "source": [
      "The most important thing in geochemistry is the quality of the data collected of a sample. The analytical technique that will be used to measure something in geochemistry must be chosen according to the type of information that will be measure (each method has different precision and accuracy). Therefore, it is necessary to know the principles of the main techniques used in geochemistry, in order to choose the most appropriate option for the analyses that will be perform."
     ]
    },
    {
     "cell_type": "heading",
     "level": 3,
     "metadata": {},
     "source": [
      "Principal methods are:"
     ]
    },
    {
     "cell_type": "markdown",
     "metadata": {},
     "source": [
      "   X-ray fluorescence spectrometry.  \n",
      "   Neutron activation analyses.  \n",
      "   Inductively coupled plasma emission spectrometry.  \n",
      "   Atomic absortion spectrophotometry.  \n",
      "   Mass spectrometry.  \n",
      "   Electron microprobe analyses.  \n",
      "   Ion microprobe.  "
     ]
    },
    {
     "cell_type": "heading",
     "level": 3,
     "metadata": {},
     "source": [
      "Principal measurements are:"
     ]
    },
    {
     "cell_type": "markdown",
     "metadata": {},
     "source": [
      "\n",
      "   Major elements: > 0,1 wt.% in the sample  \n",
      "   Trace elements: < 0,1 wt.% in the sample  \n",
      "   Isotopes  "
     ]
    },
    {
     "cell_type": "heading",
     "level": 2,
     "metadata": {},
     "source": [
      "X-ray fluorescence spectrometry"
     ]
    },
    {
     "cell_type": "heading",
     "level": 3,
     "metadata": {},
     "source": [
      "What is it used?"
     ]
    },
    {
     "cell_type": "markdown",
     "metadata": {},
     "source": [
      "The method is used in the determination of the major and tracce elements, because it works concentrations from 100 wt% to few parts per million."
     ]
    },
    {
     "cell_type": "heading",
     "level": 3,
     "metadata": {},
     "source": [
      "How it works?"
     ]
    },
    {
     "cell_type": "markdown",
     "metadata": {},
     "source": [
      "A primary X-ray beam excites secondary X-rays which have wavelenghts characteristic of the elements present in the sample. The intensity of the Secondary X-rays allow to establish the concentrations of the elements present in a sample."
     ]
    },
    {
     "cell_type": "heading",
     "level": 3,
     "metadata": {},
     "source": [
      "How is it done?"
     ]
    },
    {
     "cell_type": "markdown",
     "metadata": {},
     "source": [
      "XFR major element analysis consist of the preparation of glass bead made form the powdered sample fused with lithium metaborate or tetraborate.\n",
      "\n",
      "XFR trace element analysis consist of the prepartaion of a pressed powder disc."
     ]
    },
    {
     "cell_type": "heading",
     "level": 3,
     "metadata": {},
     "source": [
      "Problems and limitations"
     ]
    },
    {
     "cell_type": "markdown",
     "metadata": {},
     "source": [
      "The method can not measure elements lighter than sodium (Na), nor it can measure all the range of trace elements. Therefore, it is used for major elements principally.  \n",
      "  \n",
      "X-rays tubes are delicate and tube changes are minimized to conserve their life. XRF trace elements analysis imply the use of one or more different tubes."
     ]
    },
    {
     "cell_type": "heading",
     "level": 2,
     "metadata": {},
     "source": [
      "Neutron activation analyses"
     ]
    },
    {
     "cell_type": "heading",
     "level": 3,
     "metadata": {},
     "source": [
      "What is it used?"
     ]
    },
    {
     "cell_type": "markdown",
     "metadata": {},
     "source": [
      "The method is used in the determination of trace elements (REE and platinum group). This technique does not destroy the sample."
     ]
    },
    {
     "cell_type": "heading",
     "level": 3,
     "metadata": {},
     "source": [
      "How it works?"
     ]
    },
    {
     "cell_type": "markdown",
     "metadata": {},
     "source": [
      "The sample is exposed to a neutron flux in a neutron reactor. This radiation generates new short-lived radioactive isotopes that emit gamma radiation. The sample must be irradiated for long time in order to detect and measure the isotopes through the intensity of the gamma radiation and the decay time (each isotope have your own half-live time)."
     ]
    },
    {
     "cell_type": "heading",
     "level": 3,
     "metadata": {},
     "source": [
      "How is it done?"
     ]
    },
    {
     "cell_type": "markdown",
     "metadata": {},
     "source": [
      "Instrumental neutron activation analysis (INAA): 100 mg of powdered sample is exposed in a neutron flux.  \n",
      "\n",
      "Radioactive neutron activation analysis (RNAA): it consist of chemical separation when the concentration of the elements are below 2 ppm.  "
     ]
    },
    {
     "cell_type": "heading",
     "level": 2,
     "metadata": {},
     "source": [
      "Inductively coupled plasma emission spectrometry "
     ]
    },
    {
     "cell_type": "heading",
     "level": 2,
     "metadata": {},
     "source": [
      "Atomic absortion spectrophotometry "
     ]
    },
    {
     "cell_type": "heading",
     "level": 2,
     "metadata": {},
     "source": [
      "Mass spectrometry"
     ]
    },
    {
     "cell_type": "heading",
     "level": 2,
     "metadata": {},
     "source": [
      "Electron microprobe analyses "
     ]
    },
    {
     "cell_type": "heading",
     "level": 2,
     "metadata": {},
     "source": [
      "Ion microprobe"
     ]
    },
    {
     "cell_type": "code",
     "collapsed": false,
     "input": [],
     "language": "python",
     "metadata": {},
     "outputs": []
    }
   ],
   "metadata": {}
  }
 ]
}