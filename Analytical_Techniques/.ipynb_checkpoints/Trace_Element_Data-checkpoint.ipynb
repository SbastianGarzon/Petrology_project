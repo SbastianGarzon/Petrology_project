{
 "metadata": {
  "name": "",
  "signature": "sha256:007f06a0a427b2c54fc4892bc37a855c50f1cbb06922a010f4967141306c604a"
 },
 "nbformat": 3,
 "nbformat_minor": 0,
 "worksheets": []
}