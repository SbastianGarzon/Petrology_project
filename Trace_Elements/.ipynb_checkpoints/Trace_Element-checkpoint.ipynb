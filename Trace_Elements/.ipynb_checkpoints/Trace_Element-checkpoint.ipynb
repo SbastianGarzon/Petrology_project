{
 "metadata": {
  "name": "",
  "signature": "sha256:901e30abd74245728a18ee47186b81a6c7b420d080af81806ca43ca3a558d620"
 },
 "nbformat": 3,
 "nbformat_minor": 0,
 "worksheets": [
  {
   "cells": [
    {
     "cell_type": "heading",
     "level": 1,
     "metadata": {},
     "source": [
      "Trace Element"
     ]
    },
    {
     "cell_type": "heading",
     "level": 2,
     "metadata": {},
     "source": [
      "Discrimination diagrams"
     ]
    },
    {
     "cell_type": "code",
     "collapsed": false,
     "input": [],
     "language": "python",
     "metadata": {},
     "outputs": []
    }
   ],
   "metadata": {}
  }
 ]
}